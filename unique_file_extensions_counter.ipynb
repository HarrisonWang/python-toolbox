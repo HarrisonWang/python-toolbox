{
 "cells": [
  {
   "cell_type": "code",
   "execution_count": null,
   "metadata": {},
   "outputs": [],
   "source": [
    "# 1. 安装 git python 包"
   ]
  },
  {
   "cell_type": "code",
   "execution_count": null,
   "metadata": {},
   "outputs": [],
   "source": [
    "!pip install gitpython"
   ]
  },
  {
   "cell_type": "markdown",
   "metadata": {},
   "source": [
    "# 2. 下载指定 Git 仓库代码并统计所有的文件后缀名"
   ]
  },
  {
   "cell_type": "code",
   "execution_count": null,
   "metadata": {},
   "outputs": [],
   "source": [
    "import os\n",
    "import git\n",
    "\n",
    "def clone_repo(repo_url, local_path):\n",
    "    git.Repo.clone_from(repo_url, local_path)\n",
    "\n",
    "def get_unique_file_extensions(repo_path):\n",
    "    extensions = []\n",
    "    for root, dirs, files in os.walk(repo_path):\n",
    "        for file in files:\n",
    "            _, ext = os.path.splitext(file)\n",
    "            if ext:  # 确保文件有后缀\n",
    "                extensions.append(ext.lower())  # 转换为小写以确保唯一性\n",
    "    \n",
    "    return list(set(extensions))  # 使用 set 去重\n",
    "\n",
    "def main():\n",
    "    repo_url = input(\"请输入 GitHub 仓库 URL: \")\n",
    "    local_path = \"./temp_repo\"\n",
    "\n",
    "    try:\n",
    "        print(\"正在克隆仓库...\")\n",
    "        clone_repo(repo_url, local_path)\n",
    "\n",
    "        unique_extensions = get_unique_file_extensions(local_path)\n",
    "        print(\"\\n仓库中的唯一文件后缀：\")\n",
    "        for ext in sorted(unique_extensions):\n",
    "          print(ext)\n",
    "\n",
    "    finally:\n",
    "        # 清理临时文件\n",
    "        if os.path.exists(local_path):\n",
    "            import shutil\n",
    "            shutil.rmtree(local_path)\n",
    "\n",
    "if __name__ == \"__main__\":\n",
    "    main()"
   ]
  }
 ],
 "metadata": {
  "language_info": {
   "name": "python"
  }
 },
 "nbformat": 4,
 "nbformat_minor": 2
}
