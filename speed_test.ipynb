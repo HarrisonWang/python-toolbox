{
 "cells": [
  {
   "cell_type": "markdown",
   "metadata": {},
   "source": [
    "# 安装 speedtest-cli 包"
   ]
  },
  {
   "cell_type": "code",
   "execution_count": null,
   "metadata": {},
   "outputs": [],
   "source": [
    "!pip install speedtest-cli"
   ]
  },
  {
   "cell_type": "markdown",
   "metadata": {},
   "source": [
    "# 执行测速脚本"
   ]
  },
  {
   "cell_type": "code",
   "execution_count": null,
   "metadata": {},
   "outputs": [],
   "source": [
    "import speedtest as st\n",
    "\n",
    "def Speed_Test():\n",
    "    test = st.Speedtest()\n",
    "\n",
    "    download_speed = test.download()\n",
    "    download_speed = round(download_speed / 10**6, 2)\n",
    "    print(f\"Download Speed: {download_speed} Mbps\")\n",
    "\n",
    "    up_speed = test.upload()\n",
    "    up_speed = round(us_speed / 10**6, 2)\n",
    "    print(f\"Upload Speed: {up_speed} Mbps\")\n",
    "\n",
    "    ping = test.results.ping\n",
    "    print(f\"Ping: {ping} ms\")\n",
    "\n",
    "Speed_Test()"
   ]
  }
 ],
 "metadata": {
  "language_info": {
   "name": "python"
  }
 },
 "nbformat": 4,
 "nbformat_minor": 2
}
