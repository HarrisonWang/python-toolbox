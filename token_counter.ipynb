{
 "cells": [
  {
   "cell_type": "code",
   "execution_count": null,
   "metadata": {},
   "outputs": [],
   "source": [
    "# 1.安装 OpenAI 提供的 tiktoken 包和 git python 包"
   ]
  },
  {
   "cell_type": "code",
   "execution_count": null,
   "metadata": {},
   "outputs": [],
   "source": [
    "!pip install tiktoken gitpython"
   ]
  },
  {
   "cell_type": "markdown",
   "metadata": {},
   "source": [
    "# 2.下载指定 Git 仓库代码并统计其 token 数"
   ]
  },
  {
   "cell_type": "code",
   "execution_count": null,
   "metadata": {},
   "outputs": [],
   "source": [
    "import os\n",
    "import tiktoken\n",
    "import git\n",
    "from pathlib import Path\n",
    "import json\n",
    "\n",
    "DEFAULT_FILE_TYPES = [\".py\", \".js\", \".java\", \".cpp\", \".html\", \".css\"]\n",
    "CONFIG_FILE = \"token_counter_config.json\"\n",
    "\n",
    "def load_config():\n",
    "    if os.path.exists(CONFIG_FILE):\n",
    "        with open(CONFIG_FILE, 'r') as f:\n",
    "            return json.load(f)\n",
    "    return {\"file_types\": DEFAULT_FILE_TYPES}\n",
    "\n",
    "def save_config(config):\n",
    "    with open(CONFIG_FILE, 'w') as f:\n",
    "        json.dump(config, f, indent=2)\n",
    "\n",
    "def clone_repo(repo_url, local_path):\n",
    "    git.Repo.clone_from(repo_url, local_path)\n",
    "\n",
    "#def count_tokens(file_path, encoding_name=\"cl100k_base\"):\n",
    "def count_tokens(file_path, encoding_name=\"o200k_base\"):\n",
    "    encoding = tiktoken.get_encoding(encoding_name)\n",
    "    #encoding = tiktoken.encoding_for_model(encoding_name)\n",
    "    with open(file_path, 'r', encoding='utf-8') as file:\n",
    "        content = file.read()\n",
    "    return len(encoding.encode(content))\n",
    "\n",
    "def process_repository(repo_path, file_types):\n",
    "    total_tokens = 0\n",
    "    for root, dirs, files in os.walk(repo_path):\n",
    "        for file in files:\n",
    "            if any(file.endswith(ext) for ext in file_types):\n",
    "                file_path = os.path.join(root, file)\n",
    "                tokens = count_tokens(file_path)\n",
    "                total_tokens += tokens\n",
    "                print(f\"{file_path}: {tokens} tokens\")\n",
    "    return total_tokens\n",
    "\n",
    "def main():\n",
    "    config = load_config()\n",
    "\n",
    "    print(f\"当前配置的文件类型: {', '.join(config['file_types'])}\")\n",
    "    change_config = input(\"是否要修改文件类型配置? (y/n): \").lower() == 'y'\n",
    "\n",
    "    if change_config:\n",
    "        new_types = input(\"请输入新的文件类型,用逗号分隔 (例如: .py,.js,.java): \").split(',')\n",
    "        config['file_types'] = [t.strip() for t in new_types if t.strip()]\n",
    "        save_config(config)\n",
    "        print(f\"配置已更新: {', '.join(config['file_types'])}\")\n",
    "\n",
    "    repo_url = input(\"请输入 GitHub 仓库 URL: \")\n",
    "    local_path = \"./temp_repo\"\n",
    "\n",
    "    try:\n",
    "        print(\"正在克隆仓库...\")\n",
    "        clone_repo(repo_url, local_path)\n",
    "\n",
    "        print(\"正在计算 token 数...\")\n",
    "        total_tokens = process_repository(local_path, config['file_types'])\n",
    "\n",
    "        print(f\"\\n仓库中所有配置的代码文件的总 token 数: {total_tokens}\")\n",
    "    finally:\n",
    "        # 清理临时文件\n",
    "        if os.path.exists(local_path):\n",
    "            import shutil\n",
    "            shutil.rmtree(local_path)\n",
    "\n",
    "if __name__ == \"__main__\":\n",
    "    main()"
   ]
  }
 ],
 "metadata": {
  "language_info": {
   "name": "python"
  }
 },
 "nbformat": 4,
 "nbformat_minor": 2
}
